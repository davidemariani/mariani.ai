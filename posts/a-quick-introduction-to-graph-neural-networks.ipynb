{
 "cells": [
  {
   "cell_type": "markdown",
   "id": "4489a196-89e3-48ad-a515-b0be435b186b",
   "metadata": {},
   "source": [
    "*Geometric Deep Learning* [has become increasingly popular over the past few years](https://twitter.com/prlz77/status/1178662575900368903), and I have recently become more and more interested in them.  \n",
    "In this post, I will try to compress the main intuitions (at a very high level) behind *Graph neural networks*, so that it will be easier to get to more detailed aspects in the future posts.\n",
    "<!-- TEASER_END -->"
   ]
  },
  {
   "cell_type": "markdown",
   "id": "0ef168ed-7b09-401f-bbdf-ae3f7371cc28",
   "metadata": {},
   "source": [
    "<h3><strong>Table of contents:</strong></h3>\n",
    "\n",
    "1. [What is a graph?](#what-is-a-graph)\n",
    "2. [Node, edge and graph level information](#information-level)\n",
    "3. [Graphs applications](#modelling-examples)\n",
    "4. [References](#references)"
   ]
  },
  {
   "cell_type": "markdown",
   "id": "8b70fbbe-762b-4313-a251-a66e92b11a22",
   "metadata": {
    "tags": []
   },
   "source": [
    "<h2><strong>What is a graph?</strong></h2> <a class=\"anchor\" id=\"what-is-a-graph\"></a>\n",
    "    \n",
    "A graph is a data structure made of *nodes (or vertices)* connected by *edges (or links)*; we can simply say that edges represent the relationships between nodes.  \n",
    "Depending on the way the edges link the nodes, we can classify graphs as [*directed*](https://en.wikipedia.org/wiki/Directed_graph) (edges direction matters and is specified at each edge) and [*undirected*](https://www.cpp.edu/~ftang/courses/CS241/notes/graph.htm) (edges have no specified direction and can be traversed how we desire).  \n",
    "<div align=\"center\">\n",
    "    <img src=\"/images/undirected_directed_graph.png\" alt=\"Drawing\" width=\"300\"/>\n",
    "</div>"
   ]
  },
  {
   "cell_type": "markdown",
   "id": "fdb7820d-86ae-4c6e-80b5-fcf1fd4be8ad",
   "metadata": {},
   "source": [
    "Connectivity is another way to do network classification: for example, a graph in which all the nodes are connected to all the others is called [*complete*](https://en.wikipedia.org/wiki/Complete_graph), while a graph without any directed cylces is categorized as [*directed acyclic*](https://en.wikipedia.org/wiki/Directed_acyclic_graph).\n",
    "<div align=\"center\">\n",
    "    <img src=\"/images/complete_acyclic_graph.png\" alt=\"Drawing\" width=300/>\n",
    "</div>"
   ]
  },
  {
   "cell_type": "markdown",
   "id": "3b6e7a85-4faa-4d1e-9dc0-caeee29067aa",
   "metadata": {},
   "source": [
    "There are many different graph classifications but the important thing to bear in mind is that a graph can commonly be described by its connectivity information with an [*adjacency matrix*](https://en.wikipedia.org/wiki/Adjacency_matrix#:~:text=In%20graph%20theory%20and%20computer,or%20not%20in%20the%20graph.&text=If%20the%20graph%20is%20undirected,the%20adjacency%20matrix%20is%20symmetric.), that simply stores a \"1\" if two nodes are connected (like node \"a\" and node \"c\" in the image below) or a \"0\" if they are not. \n",
    "<br>\n",
    "<img src=\"/images/adjacency_matrix.png\" alt=\"Drawing\" width=400/> "
   ]
  },
  {
   "cell_type": "markdown",
   "id": "4df91213-57e5-4124-a0c9-b964bc208598",
   "metadata": {},
   "source": [
    "<h2><strong>Node, edge and graph level information</strong></h2> <a class=\"anchor\" id=\"information-level\"></a>   \n",
    "<img align='left' src=\"/images/embedding.png\" alt=\"Drawing\" width=400/>\n",
    "\n",
    "Each piece of the graph carries a different information level: \n",
    "- **node**, with attributes such as number of neighbours or node class \n",
    "- **edge**, with directions and attributes like edge weight or edge class\n",
    "- **graph information**, with global attributes like number of nodes or shortest paths\n",
    "\n",
    "Furthermore, each element can be seen as a place in which we can store information, creating different types of [embedding](https://developers.google.com/machine-learning/crash-course/embeddings/video-lecture#:~:text=An%20embedding%20is%20a%20relatively,can%20translate%20high%2Ddimensional%20vectors.&text=Ideally%2C%20an%20embedding%20captures%20some,learned%20and%20reused%20across%20models.).  \n",
    "This is particularly important in the *deep learning* domain, since embeddings can be learned and treated similarly to weights to train."
   ]
  },
  {
   "cell_type": "markdown",
   "id": "6dae3c3a-7ab7-4963-90b8-d7ea5a30864c",
   "metadata": {},
   "source": [
    "<h2><strong>Graphs applications</strong></h2> <a class=\"anchor\" id=\"modelling-examples\"></a>\n",
    "\n",
    "As stated in the magnificent article [*A gentle introduction to Graph Neural Networks*](https://distill.pub/2021/gnn-intro/#graph-to-tensor)[<sup>1</sup>](#fn1) (from which I have taken most of the inspiration for this post), *\"graphs are all around us\"*, and the followings are just a few examples of what can be represented using them: \n",
    "- **interactions** (like [social media networks](https://brilliant.org/wiki/social-networks/), [trade networks](https://wits.worldbank.org/CountryNetwork.aspx?lang=en) or document citation networks. The [CORA](https://relational.fit.cvut.cz/dataset/CORA) dataset is a good example of the latter)\n",
    "- **fraud detection systems** ([here](https://blog.careem.com/en/crazywall-graph-based-identity-fraud-detection/) a graph based identity fraud detection is described)\n",
    "- **chemical molecular structures** or interactions between proteins (like the [PPI](https://paperswithcode.com/dataset/ppi) dataset)\n",
    "- **recommender systems** (here's [a review of graph learning based recommender systems](https://arxiv.org/pdf/2105.06339.pdf))\n",
    "- **manifolds** (an application of geometric deep learning on manifold is shown in [this short video](https://www.youtube.com/watch?v=-b0e41H4J_A))\n",
    "\n",
    "Even **images** and **text** can be represented using a graph!  \n",
    "An image is a grap\n"
   ]
  },
  {
   "cell_type": "markdown",
   "id": "d278809c-5721-4890-be83-ae6b5e0cd93f",
   "metadata": {},
   "source": [
    "<h2><strong>References</strong></h2> <a class=\"anchor\" id=\"references\"></a>\n",
    "<p id=\"fn1\">[1] Sanchez-Lengeling, et al., \"A Gentle Introduction to Graph Neural Networks\", Distill, 2021.</p>"
   ]
  },
  {
   "cell_type": "code",
   "execution_count": null,
   "id": "5eab73e8-8752-400f-999f-34434a8ea7e4",
   "metadata": {},
   "outputs": [],
   "source": []
  }
 ],
 "metadata": {
  "kernelspec": {
   "display_name": "Python 3 (ipykernel)",
   "language": "python",
   "name": "python3"
  },
  "language_info": {
   "codemirror_mode": {
    "name": "ipython",
    "version": 3
   },
   "file_extension": ".py",
   "mimetype": "text/x-python",
   "name": "python",
   "nbconvert_exporter": "python",
   "pygments_lexer": "ipython3",
   "version": "3.9.7"
  },
  "nikola": {
   "category": "",
   "date": "2022-01-06 14:15:51 UTC",
   "description": "",
   "link": "",
   "slug": "a-quick-introduction-to-graph-neural-networks",
   "tags": "",
   "title": "A quick introduction to Graph Neural Networks",
   "type": "text"
  }
 },
 "nbformat": 4,
 "nbformat_minor": 5
}
