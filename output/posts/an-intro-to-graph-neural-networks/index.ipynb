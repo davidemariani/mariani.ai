{
 "cells": [
  {
   "cell_type": "markdown",
   "id": "4489a196-89e3-48ad-a515-b0be435b186b",
   "metadata": {},
   "source": [
    "*Geometric Deep Learning* has seen an impressive increase in popularity over the past few years, and since pretty much everything can be modelled as a graph, I have been more and more curious about it.  \n",
    "In this post, I will try to compress the main intuitions (at a very high level) behind *Graph neural networks*, so that it will be easier to get to more detailed aspects in the future posts."
   ]
  },
  {
   "cell_type": "markdown",
   "id": "8b70fbbe-762b-4313-a251-a66e92b11a22",
   "metadata": {},
   "source": [
    "## What is a graph?  \n",
    "A graph is a data structure made of *nodes (or vertices)* connected by *edges (or links)*; to simplify, we can say that edges represent the relationships between nodes.  \n",
    "Depending on the way the edges link the nodes, we can distinguish between *directed graphs* (in which direction matters and is specified at each edge) and *undirected graphs* (in which edges have no specified direction and can be traversed how we desire).\n",
    "\n",
    "<div>\n",
    "        <img src=\"/images/undirected_directed_graph.png\" alt=\"Drawing\" width=300 style=\"float: right;\"/>\n",
    "        <img src=\"/images/complete_acyclic_graph.png\" alt=\"Drawing\" width=300 style=\"float: right;\"/>\n",
    "</div>  \n"
   ]
  },
  {
   "cell_type": "markdown",
   "id": "6dae3c3a-7ab7-4963-90b8-d7ea5a30864c",
   "metadata": {},
   "source": [
    "There are many examples of information that can be represented through graphs:\n",
    "- chemical molecular structures or interactions between proteins (like the [PPI](https://paperswithcode.com/dataset/ppi) dataset)\n",
    "- document citation networks (like the [CORA](https://relational.fit.cvut.cz/dataset/CORA) dataset)\n",
    "- social media networks"
   ]
  },
  {
   "cell_type": "code",
   "execution_count": null,
   "id": "eaac7d18-ecce-45ea-93d3-50bd6d96e9d2",
   "metadata": {},
   "outputs": [],
   "source": []
  }
 ],
 "metadata": {
  "kernelspec": {
   "display_name": "Python 3 (ipykernel)",
   "language": "python",
   "name": "python3"
  },
  "language_info": {
   "codemirror_mode": {
    "name": "ipython",
    "version": 3
   },
   "file_extension": ".py",
   "mimetype": "text/x-python",
   "name": "python",
   "nbconvert_exporter": "python",
   "pygments_lexer": "ipython3",
   "version": "3.9.7"
  },
  "nikola": {
   "category": "",
   "date": "2021-12-07 23:41:11 UTC",
   "description": "",
   "link": "",
   "slug": "an-intro-to-graph-neural-networks",
   "tags": "",
   "title": "An intro to Graph Neural Networks",
   "type": "text"
  }
 },
 "nbformat": 4,
 "nbformat_minor": 5
}
